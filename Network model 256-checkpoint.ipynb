{
 "cells": [
  {
   "cell_type": "markdown",
   "metadata": {},
   "source": [
    "This is the code for training the network for 256x256 fully connected model for experiment 1 and 2"
   ]
  },
  {
   "cell_type": "code",
   "execution_count": 1,
   "metadata": {},
   "outputs": [
    {
     "name": "stderr",
     "output_type": "stream",
     "text": [
      "/Accounts/huanga2/anaconda3/lib/python3.6/site-packages/h5py/__init__.py:36: FutureWarning: Conversion of the second argument of issubdtype from `float` to `np.floating` is deprecated. In future, it will be treated as `np.float64 == np.dtype(float).type`.\n",
      "  from ._conv import register_converters as _register_converters\n",
      "Using TensorFlow backend.\n"
     ]
    }
   ],
   "source": [
    "#Import necessary packages.\n",
    "\n",
    "import numpy as np\n",
    "from keras.callbacks import EarlyStopping\n",
    "from keras.layers import Dense, Dropout, LSTM\n",
    "from keras.models import load_model, Sequential\n",
    "from keras.optimizers import Adam\n",
    "import os\n",
    "import pickle\n",
    "import matplotlib.pyplot as plt\n",
    "\n",
    "%matplotlib inline\n",
    "\n",
    "current_directory = os.getcwd()"
   ]
  },
  {
   "cell_type": "code",
   "execution_count": 3,
   "metadata": {},
   "outputs": [
    {
     "name": "stdout",
     "output_type": "stream",
     "text": [
      "(470250, 512)\n",
      "(52250, 512)\n",
      "470250\n",
      "52250\n"
     ]
    }
   ],
   "source": [
    "#Load datasets.\n",
    "\n",
    "X_train = np.load(\"Training_data.npy\")\n",
    "X_test = np.load(\"Test_data.npy\")\n",
    "Y_train = np.load('Training_labels.npy')\n",
    "Y_test = np.load('Test_labels.npy')\n",
    "human_train = np.load('Human_Test.npy')\n",
    "human_test = np.load('Human_Test_Labels.npy')\n",
    "human_data_reference = np.load('human_Data_Reference.npy')\n",
    "#Save the human data in a dictionary\n",
    "human_test_dict = {}\n",
    "\n",
    "for i in range(len(human_data_reference)):\n",
    "    if human_data_reference[i][0] not in human_test_dict:\n",
    "        human_test_dict[human_data_reference[i][0]] = [[], []]\n",
    "    human_test_dict[human_data_reference[i][0]][0].append(human_train[i])\n",
    "    human_test_dict[human_data_reference[i][0]][1].append(human_test[i])\n",
    "for item in human_test_dict:\n",
    "    human_test_dict[item][0] = np.array(human_test_dict[item][0])\n",
    "    human_test_dict[item][1] = np.array(human_test_dict[item][1])\n",
    "    \n",
    "print(X_train.shape)\n",
    "print(X_test.shape)\n",
    "print(len(Y_train))\n",
    "print(len(Y_test))\n"
   ]
  },
  {
   "cell_type": "code",
   "execution_count": 4,
   "metadata": {},
   "outputs": [],
   "source": [
    "#Regularize the data.\n",
    "\n",
    "mean = X_train.mean(axis = 0)\n",
    "X_train -= mean\n",
    "X_test -= mean\n",
    "for item in human_test_dict:\n",
    "    human_test_dict[item][0] -= mean \n",
    "\n",
    "std = X_train.std(axis = 0)\n",
    "X_train /= std\n",
    "X_test /= std\n",
    "for item in human_test_dict:\n",
    "    human_test_dict[item][0] /= std"
   ]
  },
  {
   "cell_type": "code",
   "execution_count": 125,
   "metadata": {},
   "outputs": [
    {
     "name": "stdout",
     "output_type": "stream",
     "text": [
      "(47027, 512)\n",
      "(5225, 512)\n",
      "47027\n",
      "5225\n"
     ]
    }
   ],
   "source": [
    "#[OPTIONAL] Choose a smaller sample.\n",
    "\n",
    "train_data_selection = int(X_train.shape[0]*0.1)\n",
    "test_data_selection = int(X_test.shape[0]*0.1)\n",
    "\n",
    "X_train = X_train[:train_data_selection]\n",
    "Y_train = Y_train[:train_data_selection]\n",
    "X_test = X_test[:test_data_selection]\n",
    "Y_test = Y_test[:test_data_selection]\n",
    "\n",
    "print(X_train.shape)\n",
    "print(X_test.shape)\n",
    "print(len(Y_train))\n",
    "print(len(Y_test))"
   ]
  },
  {
   "cell_type": "code",
   "execution_count": 10,
   "metadata": {
    "scrolled": false
   },
   "outputs": [
    {
     "name": "stdout",
     "output_type": "stream",
     "text": [
      "_________________________________________________________________\n",
      "Layer (type)                 Output Shape              Param #   \n",
      "=================================================================\n",
      "dense_4 (Dense)              (None, 256)               131328    \n",
      "_________________________________________________________________\n",
      "dropout_3 (Dropout)          (None, 256)               0         \n",
      "_________________________________________________________________\n",
      "dense_5 (Dense)              (None, 256)               65792     \n",
      "_________________________________________________________________\n",
      "dropout_4 (Dropout)          (None, 256)               0         \n",
      "_________________________________________________________________\n",
      "dense_6 (Dense)              (None, 1)                 257       \n",
      "=================================================================\n",
      "Total params: 197,377\n",
      "Trainable params: 197,377\n",
      "Non-trainable params: 0\n",
      "_________________________________________________________________\n"
     ]
    }
   ],
   "source": [
    "#Train the 256 x 256 network models\n",
    "        \n",
    "for l1 in range(8, 9):\n",
    "    model = Sequential()\n",
    "    model.add(Dense(2 ** l1, activation = 'relu', input_shape = (512,)))\n",
    "    model.add(Dropout(0.5))\n",
    "    model.add(Dense(2 ** l1, activation = 'relu'))\n",
    "    model.add(Dropout(0.5))\n",
    "    model.add(Dense(1, activation = 'sigmoid'))\n",
    "    model.compile(optimizer = Adam(lr = 0.0001), loss = 'binary_crossentropy', metrics = ['accuracy'])\n",
    "    model.summary()\n",
    "    \n",
    "    history = model.fit(X_train, Y_train, epochs = 1500, batch_size = 4096, shuffle = True,\n",
    "                                validation_split = 0.1, verbose = 0)\n",
    "            \n",
    "        \n",
    "    os.chdir('/data')\n",
    "    model.save('{}x{}_model.h5'.format(2 ** l1, 2 ** l1))\n",
    "        \n",
    "    os.chdir('/data')\n",
    "    with open('{}x{}_model_history.pickle'.format(2 ** l1, 2 ** l1), 'wb') as dictionary:\n",
    "            pickle.dump(history.history, dictionary, protocol=pickle.HIGHEST_PROTOCOL)\n",
    "            "
   ]
  }
 ],
 "metadata": {
  "kernelspec": {
   "display_name": "Python 3",
   "language": "python",
   "name": "python3"
  },
  "language_info": {
   "codemirror_mode": {
    "name": "ipython",
    "version": 3
   },
   "file_extension": ".py",
   "mimetype": "text/x-python",
   "name": "python",
   "nbconvert_exporter": "python",
   "pygments_lexer": "ipython3",
   "version": "3.6.5"
  }
 },
 "nbformat": 4,
 "nbformat_minor": 2
}
